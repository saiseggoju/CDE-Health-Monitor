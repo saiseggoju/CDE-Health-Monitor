{
 "cells": [
  {
   "cell_type": "code",
   "execution_count": 2,
   "id": "be5acfa6-2b20-410c-bba2-380687c23ea4",
   "metadata": {},
   "outputs": [
    {
     "name": "stdout",
     "output_type": "stream",
     "text": [
      "✅ Sample Excel files created successfully inside 'processed' folder!\n"
     ]
    }
   ],
   "source": [
    "import pandas as pd\n",
    "import os\n",
    "\n",
    "# ensure the folder exists\n",
    "os.makedirs(\"processed\", exist_ok=True)\n",
    "\n",
    "# sample data for freshness\n",
    "freshness_data = pd.DataFrame({\n",
    "    \"CDE\": [\"Customer_ID\", \"Address\", \"Phone\", \"Email\", \"DOB\"],\n",
    "    \"Freshness_Days\": [2, 5, 1, 4, 3]\n",
    "})\n",
    "freshness_data.to_excel(\"processed/CDE_Health_Report.xlsx\", index=False)\n",
    "\n",
    "# sample data for validity\n",
    "validity_data = pd.DataFrame({\n",
    "    \"CDE\": [\"Customer_ID\", \"Address\", \"Phone\", \"Email\", \"DOB\"],\n",
    "    \"Invalid_Percentage\": [1.2, 3.5, 0.8, 2.0, 1.0]\n",
    "})\n",
    "validity_data.to_excel(\"processed/discrepancy_report.xlsx\", index=False)\n",
    "\n",
    "print(\"✅ Sample Excel files created successfully inside 'processed' folder!\")\n"
   ]
  },
  {
   "cell_type": "code",
   "execution_count": null,
   "id": "a55fdb75-b85f-4c0a-84c4-64e01ff94707",
   "metadata": {},
   "outputs": [],
   "source": []
  },
  {
   "cell_type": "code",
   "execution_count": null,
   "id": "33850b30-5811-41ed-833f-407aefe74236",
   "metadata": {},
   "outputs": [],
   "source": []
  }
 ],
 "metadata": {
  "kernelspec": {
   "display_name": "Python 3 (ipykernel)",
   "language": "python",
   "name": "python3"
  },
  "language_info": {
   "codemirror_mode": {
    "name": "ipython",
    "version": 3
   },
   "file_extension": ".py",
   "mimetype": "text/x-python",
   "name": "python",
   "nbconvert_exporter": "python",
   "pygments_lexer": "ipython3",
   "version": "3.12.1"
  }
 },
 "nbformat": 4,
 "nbformat_minor": 5
}
